{
 "cells": [
  {
   "cell_type": "code",
   "execution_count": 23,
   "metadata": {
    "id": "PdCY_mbBBuQT"
   },
   "outputs": [],
   "source": [
    "from music21 import *"
   ]
  },
  {
   "cell_type": "markdown",
   "metadata": {},
   "source": [
    "автоматическая генерация музыки - это процесс создания небольшого музыкального произведения с минимальным вмешательством человека."
   ]
  },
  {
   "cell_type": "markdown",
   "metadata": {},
   "source": [
    "В 1787 году Моцарт предложил <b>игру в кости</b> для случайного выбора звука (и он был не первым и не последним - https://ru.wikipedia.org/wiki/Музыкальная_игра_в_кости). \n",
    "<br>\n",
    "<br>\n",
    "В начале 1950-х Яннис Ксенакис использовал концепции статистики и вероятности для создания музыки, получившей название <b>стохастическая музыка</b> https://algorithmiccomposition.ru/article_entry_xenakis.html. Базовая идея: музыка - последовательность звуков, которая возникает случайно. Значит, выбор этих звуков может строго зависеть от математического аппарата.\n",
    "<br>\n",
    "<br>\n",
    "<b>Архитектуры глубокого обучения</b> стали \"легким\" решением в рамках задачи автоматической генерации музыки. Почему именно DL \"выстрелил\" в этой задаче? - ответ прост, потому что требуются универсальные функциональные аппроксиматоры, а это нейросетки."
   ]
  },
  {
   "cell_type": "markdown",
   "metadata": {},
   "source": [
    "<b>Составные элементы музыки</b>\n",
    "<br><br>\n",
    "Звук, производимый одной клавишей, называется <b>нотой</b>.<br>\n",
    "Звук, воспроизводимый двумя или более клавишами одновременно, называется <b>аккордом</b>. Как правило, большинство аккордов содержат как минимум 3 ключевых звука.<br>\n",
    "Повторяющийся базисный музыкальный интервал называется <b>октавой</b>. Каждая октава содержит 7 белых и 5 черных клавиш."
   ]
  },
  {
   "cell_type": "markdown",
   "metadata": {},
   "source": [
    "<h1>Подход 1: использование WaveNet</h1>\n",
    "    <br>\n",
    "<p>WaveNet - модель генерации необработанного звука, разработанная Google DeepMind - https://en.wikipedia.org/wiki/WaveNet. Основная цель WaveNet - генерировать новые выборки из исходного распределения данных. То есть перед нами генеративная модель, которая очень похожа на языковые модели.\n",
    "<p>WaveNet принимает на входе кусок необработанной звуковой волны (которая представлена в виде значений амплитуды = временной ряд). <img src='http://ar.flashmode.tn/wp-content/uploads/2018/06/Shazam-Was-That-Song-Nickelback-Or-Pitbull.gif'>\n",
    "    <br><br>\n",
    "<p>Выход WaveNet:<br>\n",
    "<img src='https://habrastorage.org/getpro/habr/post_images/2fe/b25/464/2feb25464260ad8a96c983bb85340fee.gif'>\n",
    "    <br>\n",
    "    На каждом шагу семплинга значение вычисляется из вероятностного распределения посчитанного сетью. Затем это значение возвращается на вход и делается новое предсказание для следующего шага.\n",
    "    <br>\n",
    "    То есть перед нами построение авторегрессионной модели, в которой каждый семпл зависит от всех предыдущих.\n",
    "    <br><br>\n",
    "    Еще мы видим, что перед нами сверточная нейронная сеть (https://neurohive.io/ru/osnovy-data-science/glubokaya-svertochnaja-nejronnaja-set/), где слои имеют разные факторы дилатации и позволяют ее рецептивному полю расти экспоненциально с глубиной и покрывать тысячи временных отрезков. \n",
    "    \n",
    "<h1>Подход 2: использование модели долгой краткосрочной памяти (LSTM)</h1>\n",
    "    <br>\n",
    "<p> LSTM представляет собой вариант рекуррентных нейронных сетей (RNN) - https://ru.wikipedia.org/wiki/Долгая_краткосрочная_память, способна фиксировать долгосрочные зависимости во входной последовательности.\n",
    "<p>При обучении условные вероятности во все моменты времени могут вычисляться\n",
    "параллельно, потому что все значения сигнала x заранее известны. Во время генерации предсказания последовательны: каждая предсказанная точка подаётся обратно на вход нейросети, чтобы предсказать следующую.\n",
    "    \n",
    "<br><br>\n",
    " Подготовка входных и выходных последовательностей аналогична WaveNet. На каждом временном шаге значение амплитуды загружается в ячейку памяти - затем модель вычисляет скрытый вектор и передает его на следующий шаг. Текущий скрытый вектор на временном шаге вычисляется на основе текущего входного и ранее скрытого вектора.\n",
    " \n",
    "<p>почитать подробнее про плюсы и минусы моделей: https://habr.com/ru/company/wunderfund/blog/331310/\n"
   ]
  },
  {
   "cell_type": "markdown",
   "metadata": {},
   "source": [
    "# Реализация"
   ]
  },
  {
   "cell_type": "code",
   "execution_count": 25,
   "metadata": {
    "id": "bOzly2sODGcR"
   },
   "outputs": [],
   "source": [
    "# функция для чтения MIDI\n",
    "# возвращает массив нот и аккордов, присутствующих в музыкальном файле\n",
    "\n",
    "def read_midi(file):\n",
    "    \n",
    "    print(\"Загружаем файл:\",file)\n",
    "    \n",
    "    notes=[]\n",
    "    notes_to_parse = None\n",
    "    \n",
    "    # парсинг файла\n",
    "    midi = converter.parse(file)\n",
    "  \n",
    "    # группировка по разным инструментам\n",
    "    s2 = instrument.partitionByInstrument(midi)\n",
    "\n",
    "    #перебор инструментов\n",
    "    for part in s2.parts:\n",
    "    \n",
    "        notes_to_parse = part.recurse() \n",
    "      \n",
    "        #определение: нота или аккорд\n",
    "        for element in notes_to_parse:\n",
    "                \n",
    "            #нота\n",
    "            if isinstance(element, note.Note):\n",
    "                notes.append(str(element.pitch))\n",
    "                \n",
    "            #аккорд\n",
    "            elif isinstance(element, chord.Chord):\n",
    "                notes.append('.'.join(str(n) for n in element.normalOrder))\n",
    "\n",
    "    return np.array(notes)"
   ]
  },
  {
   "cell_type": "code",
   "execution_count": 26,
   "metadata": {
    "colab": {
     "base_uri": "https://localhost:8080/"
    },
    "id": "1Z4RYBEfDI3A",
    "outputId": "d476bc3e-b04a-4a0a-9f6c-83efd9f86db6"
   },
   "outputs": [
    {
     "name": "stdout",
     "output_type": "stream",
     "text": [
      "Загружаем файл: samples/midi_songs_d-123trainwithme.mid\n",
      "Загружаем файл: samples/midi_songs_d-captainjack.mid\n",
      "Загружаем файл: samples/schubert_sonata_157_2_(c)yogore.mid\n",
      "Загружаем файл: samples/schubert_sonata_157_3_(c)yogore.mid\n"
     ]
    }
   ],
   "source": [
    "#загружаем файлы\n",
    "import os\n",
    "import numpy as np\n",
    "\n",
    "path='samples/'\n",
    "\n",
    "#читаем все файлы\n",
    "files=[i for i in os.listdir(path) if i.endswith(\".mid\")]\n",
    "\n",
    "#изучаем midi\n",
    "notes_array = np.array([read_midi(path+i) for i in files])"
   ]
  },
  {
   "cell_type": "code",
   "execution_count": 27,
   "metadata": {
    "colab": {
     "base_uri": "https://localhost:8080/"
    },
    "id": "B-BVSk53DLjG",
    "outputId": "e1e0c442-aaee-43a5-9144-b480da0a71da"
   },
   "outputs": [
    {
     "name": "stdout",
     "output_type": "stream",
     "text": [
      "161\n"
     ]
    }
   ],
   "source": [
    "#2D массив в 1D \n",
    "notes_ = [element for note_ in notes_array for element in note_]\n",
    "\n",
    "#Кол-во уникального\n",
    "unique_notes = list(set(notes_))\n",
    "print(len(unique_notes))"
   ]
  },
  {
   "cell_type": "code",
   "execution_count": 28,
   "metadata": {
    "colab": {
     "base_uri": "https://localhost:8080/",
     "height": 388
    },
    "id": "GpKme0M-EZB6",
    "outputId": "abcf9864-bc29-4975-d514-3c8bc6e80b68"
   },
   "outputs": [
    {
     "data": {
      "text/plain": [
       "(array([115.,  22.,  10.,   3.,   6.,   1.,   0.,   1.,   1.,   2.]),\n",
       " array([  1. ,  77.4, 153.8, 230.2, 306.6, 383. , 459.4, 535.8, 612.2,\n",
       "        688.6, 765. ]),\n",
       " <a list of 10 Patch objects>)"
      ]
     },
     "execution_count": 28,
     "metadata": {},
     "output_type": "execute_result"
    },
    {
     "data": {
      "image/png": "[encoded data removed]",
      "text/plain": [
       "<Figure size 360x360 with 1 Axes>"
      ]
     },
     "metadata": {
      "image/png": {
       "height": 304,
       "width": 328
      },
      "needs_background": "light"
     },
     "output_type": "display_data"
    }
   ],
   "source": [
    "from collections import Counter\n",
    "import matplotlib.pyplot as plt\n",
    "\n",
    "#частота каждой ноты\n",
    "freq = dict(Counter(notes_))\n",
    "\n",
    "#рассматривать только частоты\n",
    "no=[count for _,count in freq.items()]\n",
    "\n",
    "plt.figure(figsize=(5,5))\n",
    "plt.hist(no)"
   ]
  },
  {
   "cell_type": "markdown",
   "metadata": {},
   "source": [
    "Из графика мы можем сделать вывод, что большинство нот имеют низкую частоту. Проигнорируем низкочастотные звуки. Например, поставим порог в 50. Тем не менее, параметр можно изменить."
   ]
  },
  {
   "cell_type": "code",
   "execution_count": 29,
   "metadata": {
    "colab": {
     "base_uri": "https://localhost:8080/"
    },
    "id": "XoBiN2QLEz1u",
    "outputId": "e1d3c653-e537-4d55-a38d-b2616afd6fac"
   },
   "outputs": [
    {
     "name": "stdout",
     "output_type": "stream",
     "text": [
      "80\n"
     ]
    }
   ],
   "source": [
    "frequent_notes = [note_ for note_, count in freq.items() if count>=25]\n",
    "print(len(frequent_notes))"
   ]
  },
  {
   "cell_type": "code",
   "execution_count": 30,
   "metadata": {
    "colab": {
     "base_uri": "https://localhost:8080/"
    },
    "id": "QpzZvk9BE4QG",
    "outputId": "788dd806-ddd1-4528-e931-edafb75e9b7f"
   },
   "outputs": [],
   "source": [
    "# подготовим новые музыкальные файлы, которые содержат только эти ноты.\n",
    "\n",
    "new_music=[]\n",
    "\n",
    "for notes in notes_array:\n",
    "    temp=[]\n",
    "    for note_ in notes:\n",
    "        if note_ in frequent_notes:\n",
    "            temp.append(note_)            \n",
    "    new_music.append(temp)\n",
    "    \n",
    "new_music = np.array(new_music)"
   ]
  },
  {
   "cell_type": "code",
   "execution_count": 31,
   "metadata": {
    "id": "HemoOvLXE6U7"
   },
   "outputs": [],
   "source": [
    "# Подготовка входных и выходных последовательностей\n",
    "\n",
    "no_of_timesteps = 32\n",
    "x = []\n",
    "y = []\n",
    "\n",
    "for note_ in new_music:\n",
    "    for i in range(0, len(note_) - no_of_timesteps, 1):\n",
    "        \n",
    "        \n",
    "        input_ = note_[i:i + no_of_timesteps]\n",
    "        output = note_[i + no_of_timesteps]\n",
    "        \n",
    "        x.append(input_)\n",
    "        y.append(output)\n",
    "        \n",
    "x=np.array(x)\n",
    "y=np.array(y)"
   ]
  },
  {
   "cell_type": "code",
   "execution_count": 32,
   "metadata": {
    "id": "khuwe_tbE9he"
   },
   "outputs": [],
   "source": [
    "unique_x = list(set(x.ravel()))\n",
    "x_note_to_int = dict((note_, number) for number, note_ in enumerate(unique_x))"
   ]
  },
  {
   "cell_type": "code",
   "execution_count": 33,
   "metadata": {
    "id": "goEdKV_tE_dw"
   },
   "outputs": [],
   "source": [
    "#входные последовательности\n",
    "x_seq=[]\n",
    "for i in x:\n",
    "    temp=[]\n",
    "    for j in i:\n",
    "        # каждой записи присваиваем уникальное целое число\n",
    "        temp.append(x_note_to_int[j])\n",
    "    x_seq.append(temp)\n",
    "    \n",
    "x_seq = np.array(x_seq)"
   ]
  },
  {
   "cell_type": "code",
   "execution_count": 34,
   "metadata": {
    "id": "iKY0z4atFBy4"
   },
   "outputs": [],
   "source": [
    "unique_y = list(set(y))\n",
    "y_note_to_int = dict((note_, number) for number, note_ in enumerate(unique_y)) \n",
    "y_seq=np.array([y_note_to_int[i] for i in y])"
   ]
  },
  {
   "cell_type": "code",
   "execution_count": 35,
   "metadata": {
    "id": "Kwr9c0avFDv-"
   },
   "outputs": [],
   "source": [
    "# 80% данных для обучения, 20% для оценки:\n",
    "\n",
    "from sklearn.model_selection import train_test_split\n",
    "x_tr, x_val, y_tr, y_val = train_test_split(x_seq,y_seq,test_size=0.2,random_state=0)"
   ]
  },
  {
   "cell_type": "code",
   "execution_count": 36,
   "metadata": {
    "id": "u1XeNkZWFGB5"
   },
   "outputs": [],
   "source": [
    "# Построение модели\n",
    "def lstm():\n",
    "    model = Sequential()\n",
    "    model.add(LSTM(128,return_sequences=True))\n",
    "    model.add(LSTM(128))\n",
    "    model.add(Dense(256))\n",
    "    model.add(Activation('relu'))\n",
    "    model.add(Dense(n_vocab))\n",
    "    model.add(Activation('softmax'))\n",
    "    model.compile(loss='sparse_categorical_crossentropy', optimizer='adam')\n",
    "    return model"
   ]
  },
  {
   "cell_type": "markdown",
   "metadata": {},
   "source": []
  },
  {
   "cell_type": "code",
   "execution_count": 38,
   "metadata": {
    "colab": {
     "base_uri": "https://localhost:8080/"
    },
    "id": "GPAH7UETFIAl",
    "outputId": "f893e1df-b5fb-41bb-dc37-3eb097c32264"
   },
   "outputs": [
    {
     "name": "stdout",
     "output_type": "stream",
     "text": [
      "Model: \"sequential\"\n",
      "_________________________________________________________________\n",
      "Layer (type)                 Output Shape              Param #   \n",
      "=================================================================\n",
      "embedding (Embedding)        (None, 32, 100)           8000      \n",
      "_________________________________________________________________\n",
      "conv1d (Conv1D)              (None, 32, 64)            19264     \n",
      "_________________________________________________________________\n",
      "dropout (Dropout)            (None, 32, 64)            0         \n",
      "_________________________________________________________________\n",
      "max_pooling1d (MaxPooling1D) (None, 16, 64)            0         \n",
      "_________________________________________________________________\n",
      "conv1d_1 (Conv1D)            (None, 16, 128)           24704     \n",
      "_________________________________________________________________\n",
      "dropout_1 (Dropout)          (None, 16, 128)           0         \n",
      "_________________________________________________________________\n",
      "max_pooling1d_1 (MaxPooling1 (None, 8, 128)            0         \n",
      "_________________________________________________________________\n",
      "conv1d_2 (Conv1D)            (None, 8, 256)            98560     \n",
      "_________________________________________________________________\n",
      "dropout_2 (Dropout)          (None, 8, 256)            0         \n",
      "_________________________________________________________________\n",
      "max_pooling1d_2 (MaxPooling1 (None, 4, 256)            0         \n",
      "_________________________________________________________________\n",
      "global_max_pooling1d (Global (None, 256)               0         \n",
      "_________________________________________________________________\n",
      "dense (Dense)                (None, 256)               65792     \n",
      "_________________________________________________________________\n",
      "dense_1 (Dense)              (None, 80)                20560     \n",
      "=================================================================\n",
      "Total params: 236,880\n",
      "Trainable params: 236,880\n",
      "Non-trainable params: 0\n",
      "_________________________________________________________________\n"
     ]
    }
   ],
   "source": [
    "from keras.layers import *\n",
    "from keras.models import *\n",
    "from keras.callbacks import *\n",
    "import keras.backend as K\n",
    "\n",
    "K.clear_session()\n",
    "model = Sequential()\n",
    "    \n",
    "#embedding layer\n",
    "model.add(Embedding(len(unique_x), 100, input_length=32,trainable=True)) \n",
    "\n",
    "model.add(Conv1D(64,3, padding='causal',activation='relu'))\n",
    "model.add(Dropout(0.2))\n",
    "model.add(MaxPool1D(2))\n",
    "    \n",
    "model.add(Conv1D(128,3,activation='relu',dilation_rate=2,padding='causal'))\n",
    "model.add(Dropout(0.2))\n",
    "model.add(MaxPool1D(2))\n",
    "\n",
    "model.add(Conv1D(256,3,activation='relu',dilation_rate=4,padding='causal'))\n",
    "model.add(Dropout(0.2))\n",
    "model.add(MaxPool1D(2))\n",
    "          \n",
    "#model.add(Conv1D(256,5,activation='relu'))    \n",
    "model.add(GlobalMaxPool1D())\n",
    "    \n",
    "model.add(Dense(256, activation='relu'))\n",
    "model.add(Dense(len(unique_y), activation='softmax'))\n",
    "    \n",
    "model.compile(loss='sparse_categorical_crossentropy', optimizer='adam')\n",
    "\n",
    "model.summary()"
   ]
  },
  {
   "cell_type": "code",
   "execution_count": 39,
   "metadata": {
    "id": "a9BPuNnCFKTw"
   },
   "outputs": [],
   "source": [
    "# лучшая модель во время обучения\n",
    "mc=ModelCheckpoint('best_model.h5', monitor='val_loss', mode='min', save_best_only=True,verbose=1)"
   ]
  },
  {
   "cell_type": "code",
   "execution_count": 40,
   "metadata": {
    "colab": {
     "base_uri": "https://localhost:8080/"
    },
    "id": "XjsoCfczFNjt",
    "outputId": "3e5ab847-e474-40d3-8d5d-ad9787ae64fe",
    "scrolled": false
   },
   "outputs": [
    {
     "name": "stdout",
     "output_type": "stream",
     "text": [
      "Epoch 1/50\n",
      "74/74 [==============================] - ETA: 0s - loss: 3.4596\n",
      "Epoch 00001: val_loss improved from inf to 3.00817, saving model to best_model.h5\n",
      "74/74 [==============================] - 8s 104ms/step - loss: 3.4596 - val_loss: 3.0082\n",
      "Epoch 2/50\n",
      "74/74 [==============================] - ETA: 0s - loss: 2.6738\n",
      "Epoch 00002: val_loss improved from 3.00817 to 2.64150, saving model to best_model.h5\n",
      "74/74 [==============================] - 8s 107ms/step - loss: 2.6738 - val_loss: 2.6415\n",
      "Epoch 3/50\n",
      "74/74 [==============================] - ETA: 0s - loss: 2.4429\n",
      "Epoch 00003: val_loss improved from 2.64150 to 2.46067, saving model to best_model.h5\n",
      "74/74 [==============================] - 8s 102ms/step - loss: 2.4429 - val_loss: 2.4607\n",
      "Epoch 4/50\n",
      "74/74 [==============================] - ETA: 0s - loss: 2.2467\n",
      "Epoch 00004: val_loss improved from 2.46067 to 2.27187, saving model to best_model.h5\n",
      "74/74 [==============================] - 7s 97ms/step - loss: 2.2467 - val_loss: 2.2719\n",
      "Epoch 5/50\n",
      "73/74 [============================>.] - ETA: 0s - loss: 2.0760\n",
      "Epoch 00005: val_loss improved from 2.27187 to 2.12251, saving model to best_model.h5\n",
      "74/74 [==============================] - 6s 81ms/step - loss: 2.0752 - val_loss: 2.1225\n",
      "Epoch 6/50\n",
      "74/74 [==============================] - ETA: 0s - loss: 1.9278\n",
      "Epoch 00006: val_loss improved from 2.12251 to 2.01251, saving model to best_model.h5\n",
      "74/74 [==============================] - 6s 85ms/step - loss: 1.9278 - val_loss: 2.0125\n",
      "Epoch 7/50\n",
      "74/74 [==============================] - ETA: 0s - loss: 1.8055\n",
      "Epoch 00007: val_loss improved from 2.01251 to 1.84196, saving model to best_model.h5\n",
      "74/74 [==============================] - 7s 89ms/step - loss: 1.8055 - val_loss: 1.8420\n",
      "Epoch 8/50\n",
      "74/74 [==============================] - ETA: 0s - loss: 1.6859\n",
      "Epoch 00008: val_loss improved from 1.84196 to 1.72284, saving model to best_model.h5\n",
      "74/74 [==============================] - 6s 77ms/step - loss: 1.6859 - val_loss: 1.7228\n",
      "Epoch 9/50\n",
      "73/74 [============================>.] - ETA: 0s - loss: 1.5695\n",
      "Epoch 00009: val_loss improved from 1.72284 to 1.62158, saving model to best_model.h5\n",
      "74/74 [==============================] - 6s 86ms/step - loss: 1.5704 - val_loss: 1.6216\n",
      "Epoch 10/50\n",
      "74/74 [==============================] - ETA: 0s - loss: 1.4738\n",
      "Epoch 00010: val_loss improved from 1.62158 to 1.57300, saving model to best_model.h5\n",
      "74/74 [==============================] - 7s 92ms/step - loss: 1.4738 - val_loss: 1.5730\n",
      "Epoch 11/50\n",
      "74/74 [==============================] - ETA: 0s - loss: 1.4049\n",
      "Epoch 00011: val_loss improved from 1.57300 to 1.45617, saving model to best_model.h5\n",
      "74/74 [==============================] - 7s 90ms/step - loss: 1.4049 - val_loss: 1.4562\n",
      "Epoch 12/50\n",
      "74/74 [==============================] - ETA: 0s - loss: 1.3253\n",
      "Epoch 00012: val_loss improved from 1.45617 to 1.41358, saving model to best_model.h5\n",
      "74/74 [==============================] - 7s 88ms/step - loss: 1.3253 - val_loss: 1.4136\n",
      "Epoch 13/50\n",
      "74/74 [==============================] - ETA: 0s - loss: 1.2830\n",
      "Epoch 00013: val_loss improved from 1.41358 to 1.37409, saving model to best_model.h5\n",
      "74/74 [==============================] - 7s 95ms/step - loss: 1.2830 - val_loss: 1.3741\n",
      "Epoch 14/50\n",
      "74/74 [==============================] - ETA: 0s - loss: 1.2197\n",
      "Epoch 00014: val_loss improved from 1.37409 to 1.32051, saving model to best_model.h5\n",
      "74/74 [==============================] - 6s 87ms/step - loss: 1.2197 - val_loss: 1.3205\n",
      "Epoch 15/50\n",
      "74/74 [==============================] - ETA: 0s - loss: 1.1765\n",
      "Epoch 00015: val_loss improved from 1.32051 to 1.28390, saving model to best_model.h5\n",
      "74/74 [==============================] - 6s 85ms/step - loss: 1.1765 - val_loss: 1.2839\n",
      "Epoch 16/50\n",
      "74/74 [==============================] - ETA: 0s - loss: 1.1390\n",
      "Epoch 00016: val_loss improved from 1.28390 to 1.23472, saving model to best_model.h5\n",
      "74/74 [==============================] - 6s 83ms/step - loss: 1.1390 - val_loss: 1.2347\n",
      "Epoch 17/50\n",
      "73/74 [============================>.] - ETA: 0s - loss: 1.0805\n",
      "Epoch 00017: val_loss improved from 1.23472 to 1.21194, saving model to best_model.h5\n",
      "74/74 [==============================] - 7s 88ms/step - loss: 1.0806 - val_loss: 1.2119\n",
      "Epoch 18/50\n",
      "74/74 [==============================] - ETA: 0s - loss: 1.0516- ETA: \n",
      "Epoch 00018: val_loss improved from 1.21194 to 1.17827, saving model to best_model.h5\n",
      "74/74 [==============================] - 6s 86ms/step - loss: 1.0516 - val_loss: 1.1783\n",
      "Epoch 19/50\n",
      "74/74 [==============================] - ETA: 0s - loss: 1.0407\n",
      "Epoch 00019: val_loss improved from 1.17827 to 1.17380, saving model to best_model.h5\n",
      "74/74 [==============================] - 8s 105ms/step - loss: 1.0407 - val_loss: 1.1738\n",
      "Epoch 20/50\n",
      "74/74 [==============================] - ETA: 0s - loss: 0.9884\n",
      "Epoch 00020: val_loss improved from 1.17380 to 1.13229, saving model to best_model.h5\n",
      "74/74 [==============================] - 7s 93ms/step - loss: 0.9884 - val_loss: 1.1323\n",
      "Epoch 21/50\n",
      "73/74 [============================>.] - ETA: 0s - loss: 0.9620\n",
      "Epoch 00021: val_loss improved from 1.13229 to 1.12767, saving model to best_model.h5\n",
      "74/74 [==============================] - 6s 79ms/step - loss: 0.9612 - val_loss: 1.1277\n",
      "Epoch 22/50\n",
      "73/74 [============================>.] - ETA: 0s - loss: 0.9374\n",
      "Epoch 00022: val_loss improved from 1.12767 to 1.10227, saving model to best_model.h5\n",
      "74/74 [==============================] - 6s 80ms/step - loss: 0.9391 - val_loss: 1.1023\n",
      "Epoch 23/50\n",
      "73/74 [============================>.] - ETA: 0s - loss: 0.9094\n",
      "Epoch 00023: val_loss improved from 1.10227 to 1.08509, saving model to best_model.h5\n",
      "74/74 [==============================] - 6s 79ms/step - loss: 0.9101 - val_loss: 1.0851\n",
      "Epoch 24/50\n",
      "74/74 [==============================] - ETA: 0s - loss: 0.8875\n",
      "Epoch 00024: val_loss improved from 1.08509 to 1.05668, saving model to best_model.h5\n",
      "74/74 [==============================] - 6s 78ms/step - loss: 0.8875 - val_loss: 1.0567\n",
      "Epoch 25/50\n",
      "73/74 [============================>.] - ETA: 0s - loss: 0.8456\n",
      "Epoch 00025: val_loss did not improve from 1.05668\n",
      "74/74 [==============================] - 5s 71ms/step - loss: 0.8460 - val_loss: 1.0567\n",
      "Epoch 26/50\n",
      "73/74 [============================>.] - ETA: 0s - loss: 0.8348\n",
      "Epoch 00026: val_loss improved from 1.05668 to 1.03173, saving model to best_model.h5\n",
      "74/74 [==============================] - 6s 77ms/step - loss: 0.8341 - val_loss: 1.0317\n",
      "Epoch 27/50\n",
      "73/74 [============================>.] - ETA: 0s - loss: 0.7979\n",
      "Epoch 00027: val_loss did not improve from 1.03173\n",
      "74/74 [==============================] - 5s 70ms/step - loss: 0.7980 - val_loss: 1.0368\n",
      "Epoch 28/50\n",
      "73/74 [============================>.] - ETA: 0s - loss: 0.8051\n",
      "Epoch 00028: val_loss improved from 1.03173 to 1.01636, saving model to best_model.h5\n",
      "74/74 [==============================] - 5s 71ms/step - loss: 0.8051 - val_loss: 1.0164\n",
      "Epoch 29/50\n",
      "74/74 [==============================] - ETA: 0s - loss: 0.7781\n",
      "Epoch 00029: val_loss improved from 1.01636 to 1.00847, saving model to best_model.h5\n",
      "74/74 [==============================] - 6s 87ms/step - loss: 0.7781 - val_loss: 1.0085\n",
      "Epoch 30/50\n",
      "73/74 [============================>.] - ETA: 0s - loss: 0.7405\n",
      "Epoch 00030: val_loss improved from 1.00847 to 0.99588, saving model to best_model.h5\n",
      "74/74 [==============================] - 6s 80ms/step - loss: 0.7399 - val_loss: 0.9959\n",
      "Epoch 31/50\n",
      "73/74 [============================>.] - ETA: 0s - loss: 0.7409\n",
      "Epoch 00031: val_loss improved from 0.99588 to 0.97989, saving model to best_model.h5\n",
      "74/74 [==============================] - 6s 77ms/step - loss: 0.7423 - val_loss: 0.9799\n",
      "Epoch 32/50\n",
      "74/74 [==============================] - ETA: 0s - loss: 0.7021\n",
      "Epoch 00032: val_loss improved from 0.97989 to 0.95508, saving model to best_model.h5\n",
      "74/74 [==============================] - 7s 91ms/step - loss: 0.7021 - val_loss: 0.9551\n",
      "Epoch 33/50\n",
      "74/74 [==============================] - ETA: 0s - loss: 0.7032- E\n",
      "Epoch 00033: val_loss did not improve from 0.95508\n",
      "74/74 [==============================] - 7s 91ms/step - loss: 0.7032 - val_loss: 0.9564\n",
      "Epoch 34/50\n"
     ]
    },
    {
     "name": "stdout",
     "output_type": "stream",
     "text": [
      "73/74 [============================>.] - ETA: 0s - loss: 0.6832\n",
      "Epoch 00034: val_loss improved from 0.95508 to 0.94588, saving model to best_model.h5\n",
      "74/74 [==============================] - 7s 91ms/step - loss: 0.6825 - val_loss: 0.9459\n",
      "Epoch 35/50\n",
      "73/74 [============================>.] - ETA: 0s - loss: 0.6640\n",
      "Epoch 00035: val_loss improved from 0.94588 to 0.94578, saving model to best_model.h5\n",
      "74/74 [==============================] - 7s 92ms/step - loss: 0.6637 - val_loss: 0.9458\n",
      "Epoch 36/50\n",
      "74/74 [==============================] - ETA: 0s - loss: 0.6608- ET\n",
      "Epoch 00036: val_loss improved from 0.94578 to 0.92307, saving model to best_model.h5\n",
      "74/74 [==============================] - 7s 95ms/step - loss: 0.6608 - val_loss: 0.9231\n",
      "Epoch 37/50\n",
      "74/74 [==============================] - ETA: 0s - loss: 0.6472\n",
      "Epoch 00037: val_loss did not improve from 0.92307\n",
      "74/74 [==============================] - 6s 82ms/step - loss: 0.6472 - val_loss: 0.9264\n",
      "Epoch 38/50\n",
      "73/74 [============================>.] - ETA: 0s - loss: 0.6173\n",
      "Epoch 00038: val_loss improved from 0.92307 to 0.91367, saving model to best_model.h5\n",
      "74/74 [==============================] - 6s 88ms/step - loss: 0.6177 - val_loss: 0.9137\n",
      "Epoch 39/50\n",
      "73/74 [============================>.] - ETA: 0s - loss: 0.6155\n",
      "Epoch 00039: val_loss improved from 0.91367 to 0.89737, saving model to best_model.h5\n",
      "74/74 [==============================] - 6s 78ms/step - loss: 0.6164 - val_loss: 0.8974\n",
      "Epoch 40/50\n",
      "74/74 [==============================] - ETA: 0s - loss: 0.6076\n",
      "Epoch 00040: val_loss did not improve from 0.89737\n",
      "74/74 [==============================] - 6s 76ms/step - loss: 0.6076 - val_loss: 0.9027\n",
      "Epoch 41/50\n",
      "74/74 [==============================] - ETA: 0s - loss: 0.5886\n",
      "Epoch 00041: val_loss improved from 0.89737 to 0.89604, saving model to best_model.h5\n",
      "74/74 [==============================] - 6s 79ms/step - loss: 0.5886 - val_loss: 0.8960\n",
      "Epoch 42/50\n",
      "73/74 [============================>.] - ETA: 0s - loss: 0.5617\n",
      "Epoch 00042: val_loss did not improve from 0.89604\n",
      "74/74 [==============================] - 6s 75ms/step - loss: 0.5626 - val_loss: 0.8961\n",
      "Epoch 43/50\n",
      "74/74 [==============================] - ETA: 0s - loss: 0.5604\n",
      "Epoch 00043: val_loss improved from 0.89604 to 0.88592, saving model to best_model.h5\n",
      "74/74 [==============================] - 7s 96ms/step - loss: 0.5604 - val_loss: 0.8859\n",
      "Epoch 44/50\n",
      "73/74 [============================>.] - ETA: 0s - loss: 0.5485\n",
      "Epoch 00044: val_loss did not improve from 0.88592\n",
      "74/74 [==============================] - 6s 79ms/step - loss: 0.5482 - val_loss: 0.8891\n",
      "Epoch 45/50\n",
      "73/74 [============================>.] - ETA: 0s - loss: 0.5459\n",
      "Epoch 00045: val_loss did not improve from 0.88592\n",
      "74/74 [==============================] - 5s 73ms/step - loss: 0.5456 - val_loss: 0.8908\n",
      "Epoch 46/50\n",
      "73/74 [============================>.] - ETA: 0s - loss: 0.5318\n",
      "Epoch 00046: val_loss did not improve from 0.88592\n",
      "74/74 [==============================] - 6s 75ms/step - loss: 0.5332 - val_loss: 0.8880\n",
      "Epoch 47/50\n",
      "74/74 [==============================] - ETA: 0s - loss: 0.5252\n",
      "Epoch 00047: val_loss improved from 0.88592 to 0.87299, saving model to best_model.h5\n",
      "74/74 [==============================] - 7s 95ms/step - loss: 0.5252 - val_loss: 0.8730\n",
      "Epoch 48/50\n",
      "73/74 [============================>.] - ETA: 0s - loss: 0.5034\n",
      "Epoch 00048: val_loss improved from 0.87299 to 0.87010, saving model to best_model.h5\n",
      "74/74 [==============================] - 7s 94ms/step - loss: 0.5025 - val_loss: 0.8701\n",
      "Epoch 49/50\n",
      "73/74 [============================>.] - ETA: 0s - loss: 0.5006\n",
      "Epoch 00049: val_loss improved from 0.87010 to 0.86594, saving model to best_model.h5\n",
      "74/74 [==============================] - 6s 78ms/step - loss: 0.4994 - val_loss: 0.8659\n",
      "Epoch 50/50\n",
      "74/74 [==============================] - ETA: 0s - loss: 0.4913\n",
      "Epoch 00050: val_loss did not improve from 0.86594\n",
      "74/74 [==============================] - 6s 87ms/step - loss: 0.4913 - val_loss: 0.8726\n"
     ]
    }
   ],
   "source": [
    "# Обучаем модель. размер батча 128, 50 эпох:\n",
    "\n",
    "history = model.fit(np.array(x_tr),np.array(y_tr),batch_size=128,epochs=50, validation_data=(np.array(x_val),np.array(y_val)),verbose=1, callbacks=[mc])"
   ]
  },
  {
   "cell_type": "code",
   "execution_count": 41,
   "metadata": {
    "id": "xN9IeftyFPPo"
   },
   "outputs": [],
   "source": [
    "#загрузка лучшей модели\n",
    "from keras.models import load_model\n",
    "model = load_model('best_model.h5')"
   ]
  },
  {
   "cell_type": "code",
   "execution_count": 42,
   "metadata": {
    "colab": {
     "base_uri": "https://localhost:8080/"
    },
    "id": "TirNEZPXFSAz",
    "outputId": "5c8d3d10-8b18-411b-c4d4-7eda806e7b61"
   },
   "outputs": [
    {
     "name": "stdout",
     "output_type": "stream",
     "text": [
      "[62, 55, 1, 67, 65, 2, 1, 19, 31, 18, 1, 57, 28, 31, 18, 31, 28, 1, 57, 18, 3, 28, 1, 54, 28, 3, 18, 1, 54, 28, 58, 79, 1, 21, 55, 58, 79, 58, 55, 1, 21, 79, 62, 55, 1, 67, 65, 2, 1, 19]\n"
     ]
    }
   ],
   "source": [
    "# поехали сочинять: для прогнозов следуем шагам, указанным на этапе вывода.\n",
    "\n",
    "import random\n",
    "ind = np.random.randint(0,len(x_val)-1)\n",
    "\n",
    "random_music = x_val[ind]\n",
    "\n",
    "predictions=[]\n",
    "for i in range(50):\n",
    "\n",
    "    random_music = random_music.reshape(1,no_of_timesteps)\n",
    "\n",
    "    prob  = model.predict(random_music)[0]\n",
    "    y_pred= np.argmax(prob,axis=0)\n",
    "    predictions.append(y_pred)\n",
    "\n",
    "    random_music = np.insert(random_music[0],len(random_music[0]),y_pred)\n",
    "    random_music = random_music[1:]\n",
    "    \n",
    "print(predictions)"
   ]
  },
  {
   "cell_type": "code",
   "execution_count": 43,
   "metadata": {
    "id": "8gcMs0HeFUH8"
   },
   "outputs": [],
   "source": [
    "x_int_to_note = dict((number, note_) for number, note_ in enumerate(unique_x)) \n",
    "predicted_notes = [x_int_to_note[i] for i in predictions]"
   ]
  },
  {
   "cell_type": "code",
   "execution_count": 44,
   "metadata": {
    "id": "95e5pjE8FWsq"
   },
   "outputs": [],
   "source": [
    "# обратное преобразование прогнозов в файл MIDI\n",
    "\n",
    "def convert_to_midi(prediction_output):\n",
    "   \n",
    "    offset = 0\n",
    "    output_notes = []\n",
    "\n",
    "    # объекты нот и аккордов на основе значений, сгенерированных моделью\n",
    "    for pattern in prediction_output:\n",
    "        \n",
    "        # аккорд\n",
    "        if ('.' in pattern) or pattern.isdigit():\n",
    "            notes_in_chord = pattern.split('.')\n",
    "            notes = []\n",
    "            for current_note in notes_in_chord:\n",
    "                \n",
    "                cn=int(current_note)\n",
    "                new_note = note.Note(cn)\n",
    "                new_note.storedInstrument = instrument.Piano()\n",
    "                notes.append(new_note)\n",
    "                \n",
    "            new_chord = chord.Chord(notes)\n",
    "            new_chord.offset = offset\n",
    "            output_notes.append(new_chord)\n",
    "            \n",
    "        # нота\n",
    "        else:\n",
    "            \n",
    "            new_note = note.Note(pattern)\n",
    "            new_note.offset = offset\n",
    "            new_note.storedInstrument = instrument.Piano()\n",
    "            output_notes.append(new_note)\n",
    "\n",
    "        # увеличиваем смещение на каждой итерации, чтобы ноты не слипались\n",
    "        offset += 1\n",
    "    midi_stream = stream.Stream(output_notes)\n",
    "    midi_stream.write('midi', fp='music.mid')"
   ]
  },
  {
   "cell_type": "code",
   "execution_count": 45,
   "metadata": {
    "id": "Vh1etmCiFZQ9"
   },
   "outputs": [],
   "source": [
    "convert_to_midi(predicted_notes)"
   ]
  },
  {
   "cell_type": "code",
   "execution_count": null,
   "metadata": {
    "id": "L6vCh7-MFbeu"
   },
   "outputs": [],
   "source": []
  }
 ],
 "metadata": {
  "colab": {
   "name": "Untitled39.ipynb",
   "provenance": []
  },
  "kernelspec": {
   "display_name": "Python 3",
   "language": "python",
   "name": "python3"
  },
  "language_info": {
   "codemirror_mode": {
    "name": "ipython",
    "version": 3
   },
   "file_extension": ".py",
   "mimetype": "text/x-python",
   "name": "python",
   "nbconvert_exporter": "python",
   "pygments_lexer": "ipython3",
   "version": "3.7.4"
  }
 },
 "nbformat": 4,
 "nbformat_minor": 1
}
